{
 "cells": [
  {
   "cell_type": "code",
   "execution_count": 26,
   "metadata": {},
   "outputs": [],
   "source": [
    "import SimpleITK as sitk\n",
    "import numpy as np\n",
    "import os\n",
    "\n",
    "img_ref = sitk.ReadImage('/home/viscent/hdd/viscent/dHCP/synthsr_data/1-SR_real/t1_input_1.nii.gz')\n",
    "img_t1 = sitk.ReadImage('/home/viscent/hdd/viscent/SynthSR/data/CHILD/CHILD_T1_hf_brain.nii.gz')\n",
    "img_t2 = sitk.ReadImage('/home/viscent/hdd/viscent/SynthSR/data/CHILD/CHILD_T2_hf_brain.nii.gz')"
   ]
  },
  {
   "cell_type": "code",
   "execution_count": 27,
   "metadata": {},
   "outputs": [
    {
     "name": "stdout",
     "output_type": "stream",
     "text": [
      "(1.5099999904632568, 1.5, 5.0)\n",
      "(120, 146, 36)\n"
     ]
    },
    {
     "name": "stderr",
     "output_type": "stream",
     "text": [
      "WARNING: In /tmp/SimpleITK-build/ITK/Modules/IO/Meta/src/itkMetaImageIO.cxx, line 667\n",
      "MetaImageIO (0x7f6ab38b4610): Unsupported or empty metaData item intent_name of type Ssfound, won't be written to image file\n",
      "\n",
      "OpenJDK 64-Bit Server VM warning: ignoring option PermSize=128m; support was removed in 8.0\n",
      "OpenJDK 64-Bit Server VM warning: Using incremental CMS is deprecated and will likely be removed in a future release\n"
     ]
    },
    {
     "name": "stdout",
     "output_type": "stream",
     "text": [
      "[INFO] Detected existing ImageJ; passing arguments along\n"
     ]
    }
   ],
   "source": [
    "import SimpleITK as sitk\n",
    "import skimage\n",
    "from scipy.ndimage import zoom\n",
    "print(img_t1.GetSpacing())\n",
    "print(img_t1.GetSize())\n",
    "# sitk.Show(img_t1)\n",
    "img_t1_arr = sitk.GetArrayFromImage(img_t1)\n",
    "img_t1_arr = zoom(img_t1_arr, img_t1.GetSpacing()[::-1])\n",
    "# img_t1_arr = skimage.transform.rescale(img_t1_arr,img_t1.GetSpacing())\n",
    "# img_t1.SetSpacing((1.0, 1.0, 1.0))\n",
    "# img_t2.SetSpacing((1.0, 1.0, 1.0))\n",
    "# img_t1=resize_image_itk(img_t1, img_ref)\n",
    "# sitk.WriteImage(img_t1, '/home/viscent/hdd/viscent/SynthSR/data/CHILD/CHILD_T1_hf_brain_resized.nii.gz')\n",
    "sitk.Show(img_t1)\n",
    "# sitk.WriteImage(img_t2, '/home/viscent/hdd/viscent/SynthSR/data/CHILD/CHILD_T2_hf_brain_resized.nii.gz')"
   ]
  },
  {
   "cell_type": "code",
   "execution_count": 12,
   "metadata": {},
   "outputs": [],
   "source": [
    "def resize_image_itk(ori_img, target_img, resamplemethod=sitk.sitkLinear):\n",
    "    \"\"\"\n",
    "    用itk方法将原始图像resample到与目标图像一致\n",
    "    :param ori_img: 原始需要对齐的itk图像\n",
    "    :param target_img: 要对齐的目标itk图像\n",
    "    :param resamplemethod: itk插值方法: sitk.sitkLinear-线性  sitk.sitkNearestNeighbor-最近邻\n",
    "    :return:img_res_itk: 重采样好的itk图像\n",
    "    \"\"\"\n",
    "    target_Size = []\n",
    "    for a,b in zip(target_img.GetSize(), target_img.GetSpacing()):\n",
    "        target_Size.append(int(a*b))\n",
    "\n",
    "    # target_Size = ori_img.GetSize()*ori_img.GetSpacing()    # 目标图像大小  [x,y,z]\n",
    "    target_Spacing = target_img.GetSpacing()   # 目标的体素块尺寸    [x,y,z]\n",
    "    target_origin = ori_img.GetOrigin()      # 目标的起点 [x,y,z]\n",
    "    target_direction = ori_img.GetDirection()  # 目标的方向 [冠,矢,横]=[z,y,x]\n",
    "\n",
    "    print('ori_size:', ori_img.GetSize())\n",
    "    print('target_Size:', target_Size)\n",
    "\n",
    "    # itk的方法进行resample\n",
    "    resampler = sitk.ResampleImageFilter()\n",
    "    resampler.SetReferenceImage(ori_img)  # 需要重新采样的目标图像\n",
    "    # 设置目标图像的信息\n",
    "    resampler.SetSize(target_Size)\t\t# 目标图像大小\n",
    "    resampler.SetOutputOrigin(target_origin)\n",
    "    resampler.SetOutputDirection(target_direction)\n",
    "    resampler.SetOutputSpacing(target_Spacing)\n",
    "    # 根据需要重采样图像的情况设置不同的dype\n",
    "    if resamplemethod == sitk.sitkNearestNeighbor:\n",
    "        resampler.SetOutputPixelType(sitk.sitkUInt16)   # 近邻插值用于mask的，保存uint16\n",
    "    else:\n",
    "        resampler.SetOutputPixelType(sitk.sitkFloat32)  # 线性插值用于PET/CT/MRI之类的，保存float32\n",
    "    resampler.SetTransform(sitk.Transform(3, sitk.sitkAffine))    \n",
    "    resampler.SetInterpolator(resamplemethod)\n",
    "    itk_img_resampled = resampler.Execute(ori_img)  # 得到重新采样后的图像\n",
    "    return itk_img_resampled"
   ]
  },
  {
   "cell_type": "code",
   "execution_count": 18,
   "metadata": {},
   "outputs": [],
   "source": [
    "def resize_image_itk_ref(ori_img, target_img, resamplemethod=sitk.sitkLinear):\n",
    "    \"\"\"\n",
    "    用itk方法将原始图像resample到与目标图像一致\n",
    "    :param ori_img: 原始需要对齐的itk图像\n",
    "    :param target_img: 要对齐的目标itk图像\n",
    "    :param resamplemethod: itk插值方法: sitk.sitkLinear-线性  sitk.sitkNearestNeighbor-最近邻\n",
    "    :return:img_res_itk: 重采样好的itk图像\n",
    "    \"\"\"\n",
    "    target_Size = target_img.GetSize()      # 目标图像大小  [x,y,z]\n",
    "    target_Spacing = target_img.GetSpacing()   # 目标的体素块尺寸    [x,y,z]\n",
    "    target_origin = ori_img.GetOrigin()      # 目标的起点 [x,y,z]\n",
    "    target_direction = target_img.GetDirection()  # 目标的方向 [冠,矢,横]=[z,y,x]\n",
    "\n",
    "    print('ori_size:', ori_img.GetSize())\n",
    "    print('target_Size:', target_Size)\n",
    "\n",
    "    # itk的方法进行resample\n",
    "    resampler = sitk.ResampleImageFilter()\n",
    "    resampler.SetReferenceImage(ori_img)  # 需要重新采样的目标图像\n",
    "    # 设置目标图像的信息\n",
    "    resampler.SetSize(target_Size)\t\t# 目标图像大小\n",
    "    resampler.SetOutputOrigin(target_origin)\n",
    "    resampler.SetOutputDirection(target_direction)\n",
    "    resampler.SetOutputSpacing(target_Spacing)\n",
    "    # 根据需要重采样图像的情况设置不同的dype\n",
    "    if resamplemethod == sitk.sitkNearestNeighbor:\n",
    "        resampler.SetOutputPixelType(sitk.sitkUInt16)   # 近邻插值用于mask的，保存uint16\n",
    "    else:\n",
    "        resampler.SetOutputPixelType(sitk.sitkFloat32)  # 线性插值用于PET/CT/MRI之类的，保存float32\n",
    "    resampler.SetTransform(sitk.Transform(3, sitk.sitkAffine))    \n",
    "    resampler.SetInterpolator(resamplemethod)\n",
    "    itk_img_resampled = resampler.Execute(ori_img)  # 得到重新采样后的图像\n",
    "    return itk_img_resampled"
   ]
  },
  {
   "cell_type": "code",
   "execution_count": 19,
   "metadata": {},
   "outputs": [
    {
     "name": "stdout",
     "output_type": "stream",
     "text": [
      "ori_size: (120, 146, 36)\n",
      "target_Size: [181, 219, 180]\n",
      "ori_size: (120, 146, 36)\n",
      "target_Size: [181, 219, 180]\n",
      "ori_size: (181, 219, 180)\n",
      "target_Size: (108, 145, 145)\n"
     ]
    }
   ],
   "source": [
    "import copy\n",
    "img_t1_resized = resize_image_itk(img_t1, img_ref)\n",
    "img_t2_resized = resize_image_itk(img_t2, img_ref)\n",
    "aug_image = copy.copy(img_t1_resized)\n",
    "aug_image = resize_image_itk_ref(aug_image, img_ref)\n",
    "\n",
    "sitk.WriteImage(img_t1_resized, '/home/viscent/hdd/viscent/SynthSR/data/CHILD/CHILD_T1_hf_brain_resized.nii.gz')\n",
    "sitk.WriteImage(img_t2_resized, '/home/viscent/hdd/viscent/SynthSR/data/CHILD/CHILD_T2_hf_brain_resized.nii.gz')\n",
    "sitk.WriteImage(aug_image, '/home/viscent/hdd/viscent/SynthSR/data/CHILD/CHILD_T1_hf_brain_resized_aug.nii.gz')"
   ]
  }
 ],
 "metadata": {
  "interpreter": {
   "hash": "569e3690921c7d6c62459c16ec8c5627002794f98ad6d34d582a2d4c13798947"
  },
  "kernelspec": {
   "display_name": "Python 3.7.13 ('synthsr')",
   "language": "python",
   "name": "python3"
  },
  "language_info": {
   "codemirror_mode": {
    "name": "ipython",
    "version": 3
   },
   "file_extension": ".py",
   "mimetype": "text/x-python",
   "name": "python",
   "nbconvert_exporter": "python",
   "pygments_lexer": "ipython3",
   "version": "3.7.13"
  },
  "orig_nbformat": 4
 },
 "nbformat": 4,
 "nbformat_minor": 2
}
