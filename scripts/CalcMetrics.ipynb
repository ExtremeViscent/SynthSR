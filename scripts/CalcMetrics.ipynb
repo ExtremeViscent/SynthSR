{
 "cells": [
  {
   "cell_type": "markdown",
   "metadata": {},
   "source": [
    "# Downstream task: Segmentation\n",
    "Assessing the model performance by downstream task "
   ]
  },
  {
   "cell_type": "markdown",
   "metadata": {},
   "source": [
    "## DICE coefficients"
   ]
  },
  {
   "cell_type": "markdown",
   "metadata": {},
   "source": [
    "Initialize dependencies and function"
   ]
  },
  {
   "cell_type": "code",
   "execution_count": 1,
   "metadata": {},
   "outputs": [],
   "source": [
    "import os\n",
    "import sys\n",
    "import numpy as np\n",
    "import pandas as pd\n",
    "import matplotlib.pyplot as plt\n",
    "import SimpleITK as sitk\n",
    "import scipy.ndimage\n",
    "import scipy.stats\n",
    "from medpy.metric import dc\n",
    "from PIL import Image"
   ]
  },
  {
   "cell_type": "code",
   "execution_count": 2,
   "metadata": {},
   "outputs": [],
   "source": [
    "# Code snippet from nnUNet\n",
    "def compute_dice_scores(ref: str, pred: str):\n",
    "    ref = sitk.GetArrayFromImage(sitk.ReadImage(ref))\n",
    "    pred = sitk.GetArrayFromImage(sitk.ReadImage(pred))\n",
    "    # sitk.Show(sitk.GetImageFromArray(ref))\n",
    "    # sitk.Show(sitk.GetImageFromArray(pred))\n",
    "    dsc = dc(ref, pred)\n",
    "    geometric_mean = np.mean(dsc)\n",
    "    return dsc"
   ]
  },
  {
   "cell_type": "markdown",
   "metadata": {},
   "source": [
    "Compute the results"
   ]
  },
  {
   "cell_type": "code",
   "execution_count": 32,
   "metadata": {},
   "outputs": [],
   "source": [
    "label_200 = '/home/viscent/hdd/viscent/SynthSR/result/pipeline/workdir/114514-1919/segmentations/114514-1919_all_labels.nii.gz'\n",
    "label_100 = '/home/viscent/hdd/viscent/SynthSR/result/pipeline/workdir/114514-1920/segmentations/114514-1920_all_labels.nii.gz'\n",
    "label_inbox = '/home/viscent/hdd/viscent/SynthSR/result/pipeline/workdir/114514-1921/segmentations/114514-1921_all_labels.nii.gz'\n",
    "label_hyperfine = '/home/viscent/hdd/viscent/SynthSR/result/pipeline/workdir/114514-1922/segmentations/114514-1922_all_labels.nii.gz'\n",
    "label_src = '/home/viscent/hdd/viscent/SynthSR/result/pipeline/workdir/114514-1923/segmentations/114514-1923_all_labels.nii.gz'\n",
    "label_hires = '/home/viscent/hdd/viscent/SynthSR/result/pipeline/workdir/114514-1924/segmentations/114514-1924_all_labels.nii.gz'\n",
    "\n",
    "dsc_200_100 = compute_dice_scores(label_200, label_100)\n",
    "dsc_200_inbox = compute_dice_scores(label_200, label_inbox)\n",
    "dsc_200_hyperfine = compute_dice_scores(label_200, label_hyperfine)\n",
    "dsc_200_src = compute_dice_scores(label_200, label_src)\n",
    "# dsc_200_hires = compute_dice_scores(label_200, label_hires)\n",
    "\n",
    "dsc_100_inbox = compute_dice_scores(label_100, label_inbox)\n",
    "dsc_100_hyperfine = compute_dice_scores(label_100, label_hyperfine)\n",
    "dsc_100_src = compute_dice_scores(label_100, label_src)\n",
    "# dsc_100_hires = compute_dice_scores(label_100, label_hires)\n",
    "\n",
    "dsc_inbox_hyperfine = compute_dice_scores(label_inbox, label_hyperfine)\n",
    "dsc_inbox_src = compute_dice_scores(label_inbox, label_src)\n",
    "# dsc_inbox_hires = compute_dice_scores(label_inbox, label_hires)\n",
    "\n",
    "dsc_hyperfine_src = compute_dice_scores(label_hyperfine, label_src)\n",
    "# dsc_hyperfine_hires = compute_dice_scores(label_hyperfine, label_hires)\n",
    "\n",
    "# dsc_src_hires = compute_dice_scores(label_src, label_hires)\n",
    "\n",
    "dsc_matrix = np.zeros((6,6))\n",
    "np.fill_diagonal(dsc_matrix, 1)\n",
    "dsc_matrix[0,1] = dsc_200_100\n",
    "dsc_matrix[1,0] = dsc_200_100\n",
    "dsc_matrix[0,2] = dsc_200_inbox\n",
    "dsc_matrix[2,0] = dsc_200_inbox\n",
    "dsc_matrix[0,3] = dsc_200_hyperfine\n",
    "dsc_matrix[3,0] = dsc_200_hyperfine\n",
    "dsc_matrix[0,4] = dsc_200_src\n",
    "dsc_matrix[4,0] = dsc_200_src\n",
    "# dsc_matrix[0,5] = dsc_200_hires\n",
    "# dsc_matrix[5,0] = dsc_200_hires\n",
    "dsc_matrix[1,2] = dsc_100_inbox\n",
    "dsc_matrix[2,1] = dsc_100_inbox\n",
    "dsc_matrix[1,3] = dsc_100_hyperfine\n",
    "dsc_matrix[3,1] = dsc_100_hyperfine\n",
    "dsc_matrix[1,4] = dsc_100_src\n",
    "dsc_matrix[4,1] = dsc_100_src\n",
    "# dsc_matrix[1,5] = dsc_100_hires\n",
    "# dsc_matrix[5,1] = dsc_100_hires\n",
    "dsc_matrix[2,3] = dsc_inbox_hyperfine\n",
    "dsc_matrix[3,2] = dsc_inbox_hyperfine\n",
    "dsc_matrix[2,4] = dsc_inbox_src\n",
    "dsc_matrix[4,2] = dsc_inbox_src\n",
    "# dsc_matrix[2,5] = dsc_inbox_hires\n",
    "# dsc_matrix[5,2] = dsc_inbox_hires\n",
    "dsc_matrix[3,4] = dsc_hyperfine_src\n",
    "dsc_matrix[4,3] = dsc_hyperfine_src\n",
    "# dsc_matrix[3,5] = dsc_hyperfine_hires\n",
    "# dsc_matrix[5,3] = dsc_hyperfine_hires\n",
    "# dsc_matrix[4,5] = dsc_src_hires\n",
    "# dsc_matrix[5,4] = dsc_src_hires\n",
    "\n"
   ]
  },
  {
   "cell_type": "code",
   "execution_count": 33,
   "metadata": {},
   "outputs": [
    {
     "name": "stdout",
     "output_type": "stream",
     "text": [
      "dsc_200_100: 0.8534935626569092\n",
      "dsc_200_inbox: 0.6035347162320467\n",
      "dsc_200_hyperfine: 0.9476667004323789\n",
      "dsc_100_inbox: 0.6833441253454204\n",
      "dsc_100_hyperfine: 0.8408303972324146\n",
      "dsc_inbox_hyperfine: 0.5943440372888226\n",
      "dsc_inbox_src: 0.6974111840347442\n",
      "dsc_hyperfine_src: 0.792095087163233\n"
     ]
    },
    {
     "data": {
      "image/png": "[encoded data removed]",
      "text/plain": [
       "<Figure size 432x288 with 2 Axes>"
      ]
     },
     "metadata": {
      "needs_background": "light"
     },
     "output_type": "display_data"
    }
   ],
   "source": [
    "print(f\"dsc_200_100: {dsc_200_100}\")\n",
    "print(f\"dsc_200_inbox: {dsc_200_inbox}\")\n",
    "print(f\"dsc_200_hyperfine: {dsc_200_hyperfine}\")\n",
    "print(f\"dsc_100_inbox: {dsc_100_inbox}\")\n",
    "print(f\"dsc_100_hyperfine: {dsc_100_hyperfine}\")\n",
    "print(f\"dsc_inbox_hyperfine: {dsc_inbox_hyperfine}\")\n",
    "print(f\"dsc_inbox_src: {dsc_inbox_src}\")\n",
    "print(f\"dsc_hyperfine_src: {dsc_hyperfine_src}\")\n",
    "# dsc_matrix=np.where(dsc_matrix==0,1,dsc_matrix)\n",
    "min_mat = np.min(np.where(dsc_matrix==0,1,dsc_matrix))\n",
    "dsc_matrix=np.where(dsc_matrix==0,0.5,dsc_matrix)\n",
    "dsc_matrix=np.where(dsc_matrix==1,0.95,dsc_matrix)\n",
    "# dsc_matrix=np.where(dsc_matrix==1,0,dsc_matrix)\n",
    "plt.imshow(dsc_matrix, cmap='jet', interpolation='nearest')\n",
    "plt.colorbar()\n",
    "plt.show()"
   ]
  }
 ],
 "metadata": {
  "interpreter": {
   "hash": "569e3690921c7d6c62459c16ec8c5627002794f98ad6d34d582a2d4c13798947"
  },
  "kernelspec": {
   "display_name": "Python 3.7.13 ('synthsr')",
   "language": "python",
   "name": "python3"
  },
  "language_info": {
   "codemirror_mode": {
    "name": "ipython",
    "version": 3
   },
   "file_extension": ".py",
   "mimetype": "text/x-python",
   "name": "python",
   "nbconvert_exporter": "python",
   "pygments_lexer": "ipython3",
   "version": "3.7.13"
  },
  "orig_nbformat": 4
 },
 "nbformat": 4,
 "nbformat_minor": 2
}
