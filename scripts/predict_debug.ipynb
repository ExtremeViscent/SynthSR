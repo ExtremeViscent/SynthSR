{
 "cells": [
  {
   "cell_type": "code",
   "execution_count": 1,
   "metadata": {},
   "outputs": [
    {
     "name": "stdout",
     "output_type": "stream",
     "text": [
      "\n",
      "\n",
      "SynthSR prediction\n",
      "\n",
      "\n"
     ]
    }
   ],
   "source": [
    "# print information\n",
    "print('\\n')\n",
    "print('SynthSR prediction')\n",
    "print('\\n')\n",
    "\n",
    "# python imports\n",
    "import os\n",
    "import sys\n",
    "import numpy as np\n",
    "from argparse import ArgumentParser"
   ]
  },
  {
   "cell_type": "code",
   "execution_count": 2,
   "metadata": {},
   "outputs": [],
   "source": [
    "# !export PATH=/home/viscent/anaconda3/envs/synthsr/bin:$PATH\n",
    "# !export LD_LIBRARY_PATH=/home/viscent/anaconda3/envs/synthsr/lib:$LD_LIBRARY_PATH\n",
    "!export PATH=/usr/local/cuda-10.0/bin:$PATH\n",
    "!export LD_LIBRARY_PATH=/usr/local/cuda-10.0/lib64:$LD_LIBRARY_PATH\n",
    "!export CUDA_VISIBLE_DEVICES=-1"
   ]
  },
  {
   "cell_type": "markdown",
   "metadata": {},
   "source": [
    "### add main folder to python path and import SynthSR packages"
   ]
  },
  {
   "cell_type": "code",
   "execution_count": 3,
   "metadata": {},
   "outputs": [
    {
     "name": "stdout",
     "output_type": "stream",
     "text": [
      "/home/viscent/hdd/viscent/SynthSR\n"
     ]
    },
    {
     "name": "stderr",
     "output_type": "stream",
     "text": [
      "Using TensorFlow backend.\n"
     ]
    }
   ],
   "source": [
    "synthSR_home = '/home/viscent/hdd/viscent/SynthSR'\n",
    "print(synthSR_home)\n",
    "sys.path.append(synthSR_home)\n",
    "from ext.neuron import models as nrn_models\n",
    "from ext.lab2im import utils\n",
    "from ext.lab2im import edit_volumes\n",
    "import os\n",
    "os.environ['CUDA_VISIBLE_DEVICES'] = '-1'"
   ]
  },
  {
   "cell_type": "code",
   "execution_count": 4,
   "metadata": {},
   "outputs": [
    {
     "name": "stdout",
     "output_type": "stream",
     "text": [
      "Building enc...\n"
     ]
    },
    {
     "name": "stderr",
     "output_type": "stream",
     "text": [
      "2022-04-12 17:12:04.165480: I tensorflow/stream_executor/platform/default/dso_loader.cc:44] Successfully opened dynamic library libcuda.so.1\n",
      "2022-04-12 17:12:04.187551: E tensorflow/stream_executor/cuda/cuda_driver.cc:318] failed call to cuInit: CUDA_ERROR_NO_DEVICE: no CUDA-capable device is detected\n",
      "2022-04-12 17:12:04.187573: I tensorflow/stream_executor/cuda/cuda_diagnostics.cc:169] retrieving CUDA diagnostic information for host: fv\n",
      "2022-04-12 17:12:04.187576: I tensorflow/stream_executor/cuda/cuda_diagnostics.cc:176] hostname: fv\n",
      "2022-04-12 17:12:04.187627: I tensorflow/stream_executor/cuda/cuda_diagnostics.cc:200] libcuda reported version is: 510.47.3\n",
      "2022-04-12 17:12:04.187640: I tensorflow/stream_executor/cuda/cuda_diagnostics.cc:204] kernel reported version is: 510.47.3\n",
      "2022-04-12 17:12:04.187643: I tensorflow/stream_executor/cuda/cuda_diagnostics.cc:310] kernel version seems to match DSO: 510.47.3\n",
      "2022-04-12 17:12:04.187815: I tensorflow/core/platform/cpu_feature_guard.cc:142] Your CPU supports instructions that this TensorFlow binary was not compiled to use: AVX2 FMA\n",
      "2022-04-12 17:12:04.213044: I tensorflow/core/platform/profile_utils/cpu_utils.cc:94] CPU Frequency: 3393675000 Hz\n",
      "2022-04-12 17:12:04.213832: I tensorflow/compiler/xla/service/service.cc:168] XLA service 0x56229d19b200 executing computations on platform Host. Devices:\n",
      "2022-04-12 17:12:04.213842: I tensorflow/compiler/xla/service/service.cc:175]   StreamExecutor device (0): Host, Default Version\n"
     ]
    },
    {
     "name": "stdout",
     "output_type": "stream",
     "text": [
      "Building dec...\n",
      "dec built\n"
     ]
    }
   ],
   "source": [
    "unet_model = nrn_models.unet(nb_features=24,\n",
    "                             input_shape=[None, None, None, 1],\n",
    "                             nb_levels=5,\n",
    "                             conv_size=3,\n",
    "                             nb_labels=1,\n",
    "                             feat_mult=2,\n",
    "                             nb_conv_per_level=2,\n",
    "                             conv_dropout=0,\n",
    "                             final_pred_activation='linear',\n",
    "                             batch_norm=-1,\n",
    "                             activation='elu',\n",
    "                             input_model=None)\n"
   ]
  },
  {
   "cell_type": "code",
   "execution_count": 5,
   "metadata": {},
   "outputs": [],
   "source": [
    "unet_model.load_weights(os.path.join(synthSR_home, 'models/SynthSR_v10_210712.h5'), by_name=True)"
   ]
  },
  {
   "cell_type": "markdown",
   "metadata": {},
   "source": [
    "#### Prepare list of images to process"
   ]
  },
  {
   "cell_type": "code",
   "execution_count": 6,
   "metadata": {},
   "outputs": [],
   "source": [
    "path_images = '/media/hdd/viscent/dHCP/synthsr_data/images_t1_skull_1mm'\n",
    "basename = os.path.basename(path_images)\n",
    "path_predictions = '/media/hdd/viscent/SynthSR/results'"
   ]
  },
  {
   "cell_type": "code",
   "execution_count": 7,
   "metadata": {},
   "outputs": [],
   "source": [
    "if ('.nii.gz' not in basename) & ('.nii' not in basename) & ('.mgz' not in basename) & ('.npz' not in basename):\n",
    "    if os.path.isfile(path_images):\n",
    "        raise Exception('extension not supported for %s, only use: nii.gz, .nii, .mgz, or .npz' % path_images)\n",
    "    images_to_segment = utils.list_images_in_folder(path_images)\n",
    "    utils.mkdir(path_predictions)\n",
    "    path_predictions = [os.path.join(path_predictions, os.path.basename(image)).replace('.nii', '_SynthSR.nii') for image in\n",
    "                   images_to_segment]\n",
    "    path_predictions = [seg_path.replace('.mgz', '_SynthSR.mgz') for seg_path in path_predictions]\n",
    "    path_predictions = [seg_path.replace('.npz', '_SynthSR.npz') for seg_path in path_predictions]\n",
    "\n",
    "else:\n",
    "    assert os.path.isfile(path_images), \"files does not exist: %s \" \\\n",
    "                                        \"\\nplease make sure the path and the extension are correct\" % path_images\n",
    "    images_to_segment = [path_images]\n",
    "    path_predictions = [path_predictions]\n"
   ]
  },
  {
   "cell_type": "code",
   "execution_count": 8,
   "metadata": {},
   "outputs": [
    {
     "name": "stdout",
     "output_type": "stream",
     "text": [
      "Found 4 images\n",
      "  Working on image 1 \n",
      "  /media/hdd/viscent/dHCP/synthsr_data/images_t1_skull_1mm/sub-CC00051XX02_ses-7702_T1w_1mm.nii.gz\n",
      "  Working on image 2 \n",
      "  /media/hdd/viscent/dHCP/synthsr_data/images_t1_skull_1mm/sub-CC00052XX03_ses-8300_T1w_1mm.nii.gz\n",
      "  Working on image 3 \n",
      "  /media/hdd/viscent/dHCP/synthsr_data/images_t1_skull_1mm/sub-CC00053XX04_ses-8607_T1w_1mm.nii.gz\n",
      "  Working on image 4 \n",
      "  /media/hdd/viscent/dHCP/synthsr_data/images_t1_skull_1mm/sub-CC00054XX05_ses-8800_T1w_1mm.nii.gz\n",
      " \n",
      "All done!\n",
      " \n"
     ]
    }
   ],
   "source": [
    "print('Found %d images' % len(images_to_segment))\n",
    "for idx, (path_image, path_prediction) in enumerate(zip(images_to_segment, path_predictions)):\n",
    "    print('  Working on image %d ' % (idx+1))\n",
    "    print('  ' + path_image)\n",
    "\n",
    "    im, aff, hdr = utils.load_volume(path_image,im_only=False,dtype='float')\n",
    "    im, aff = edit_volumes.resample_volume(im, aff, [1.0, 1.0, 1.0])\n",
    "    aff_ref = np.eye(4)\n",
    "    im, aff2 = edit_volumes.align_volume_to_ref(im, aff, aff_ref=aff_ref, return_aff=True, n_dims=3)\n",
    "    im = im - np.min(im)\n",
    "    im = im / np.max(im)\n",
    "    I = im[np.newaxis,..., np.newaxis]\n",
    "    W = (np.ceil(np.array(I.shape[1:-1]) / 32.0) * 32).astype('int')\n",
    "    idx = np.floor((W-I.shape[1:-1])/2).astype('int')\n",
    "    S = np.zeros([1, *W, 1])\n",
    "    S[0, idx[0]:idx[0]+I.shape[1], idx[1]:idx[1]+I.shape[2], idx[2]:idx[2]+I.shape[3], :] = I\n",
    "    output = unet_model.predict(S)\n",
    "    pred = np.squeeze(output)\n",
    "    pred = 255 * pred\n",
    "    pred[pred<0] = 0\n",
    "    pred[pred>128] = 128\n",
    "    pred = pred[idx[0]:idx[0]+I.shape[1], idx[1]:idx[1]+I.shape[2], idx[2]:idx[2]+I.shape[3]]\n",
    "    utils.save_volume(pred,aff2,None,path_prediction)\n",
    "\n",
    "print(' ')\n",
    "print('All done!')\n",
    "print(' ')"
   ]
  },
  {
   "cell_type": "code",
   "execution_count": 9,
   "metadata": {},
   "outputs": [
    {
     "ename": "ModuleNotFoundError",
     "evalue": "No module named 'SimpleITK'",
     "output_type": "error",
     "traceback": [
      "\u001b[0;31m---------------------------------------------------------------------------\u001b[0m",
      "\u001b[0;31mModuleNotFoundError\u001b[0m                       Traceback (most recent call last)",
      "\u001b[0;32m/tmp/ipykernel_591949/2412128054.py\u001b[0m in \u001b[0;36m<module>\u001b[0;34m\u001b[0m\n\u001b[0;32m----> 1\u001b[0;31m \u001b[0;32mimport\u001b[0m \u001b[0mSimpleITK\u001b[0m \u001b[0;32mas\u001b[0m \u001b[0msitk\u001b[0m\u001b[0;34m\u001b[0m\u001b[0;34m\u001b[0m\u001b[0m\n\u001b[0m\u001b[1;32m      2\u001b[0m \u001b[0;34m\u001b[0m\u001b[0m\n\u001b[1;32m      3\u001b[0m \u001b[0mget_ipython\u001b[0m\u001b[0;34m(\u001b[0m\u001b[0;34m)\u001b[0m\u001b[0;34m.\u001b[0m\u001b[0mrun_line_magic\u001b[0m\u001b[0;34m(\u001b[0m\u001b[0;34m'matplotlib'\u001b[0m\u001b[0;34m,\u001b[0m \u001b[0;34m'notebook'\u001b[0m\u001b[0;34m)\u001b[0m\u001b[0;34m\u001b[0m\u001b[0;34m\u001b[0m\u001b[0m\n\u001b[1;32m      4\u001b[0m \u001b[0;32mimport\u001b[0m \u001b[0mmatplotlib\u001b[0m\u001b[0;34m.\u001b[0m\u001b[0mpyplot\u001b[0m \u001b[0;32mas\u001b[0m \u001b[0mplt\u001b[0m\u001b[0;34m\u001b[0m\u001b[0;34m\u001b[0m\u001b[0m\n\u001b[1;32m      5\u001b[0m \u001b[0minput\u001b[0m \u001b[0;34m=\u001b[0m \u001b[0mos\u001b[0m\u001b[0;34m.\u001b[0m\u001b[0mpath\u001b[0m\u001b[0;34m.\u001b[0m\u001b[0mjoin\u001b[0m\u001b[0;34m(\u001b[0m\u001b[0mpath_images\u001b[0m\u001b[0;34m,\u001b[0m\u001b[0;34m'sub-CC00051XX02_ses-7702_T1w_brain_1mm.nii.gz'\u001b[0m\u001b[0;34m)\u001b[0m\u001b[0;34m\u001b[0m\u001b[0;34m\u001b[0m\u001b[0m\n",
      "\u001b[0;31mModuleNotFoundError\u001b[0m: No module named 'SimpleITK'"
     ]
    }
   ],
   "source": [
    "import SimpleITK as sitk\n",
    "\n",
    "%matplotlib notebook\n",
    "import matplotlib.pyplot as plt\n",
    "input = os.path.join(path_images,'sub-CC00051XX02_ses-7702_T1w_brain_1mm.nii.gz')\n",
    "output = os.path.join('/media/hdd/viscent/SynthSR/results','sub-CC00051XX02_ses-7702_T1w_brain_1mm_SynthSR.nii.gz')"
   ]
  }
 ],
 "metadata": {
  "interpreter": {
   "hash": "569e3690921c7d6c62459c16ec8c5627002794f98ad6d34d582a2d4c13798947"
  },
  "kernelspec": {
   "display_name": "Python 3.7.13 ('synthsr')",
   "language": "python",
   "name": "python3"
  },
  "language_info": {
   "codemirror_mode": {
    "name": "ipython",
    "version": 3
   },
   "file_extension": ".py",
   "mimetype": "text/x-python",
   "name": "python",
   "nbconvert_exporter": "python",
   "pygments_lexer": "ipython3",
   "version": "3.7.13"
  },
  "orig_nbformat": 4
 },
 "nbformat": 4,
 "nbformat_minor": 2
}
